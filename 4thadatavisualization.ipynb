{
 "cells": [
  {
   "cell_type": "code",
   "execution_count": 1,
   "id": "31468af7",
   "metadata": {
    "pycharm": {
     "name": "#%%\n"
    }
   },
   "outputs": [
    {
     "data": {
      "text/html": [
       "<div>\n",
       "<style scoped>\n",
       "    .dataframe tbody tr th:only-of-type {\n",
       "        vertical-align: middle;\n",
       "    }\n",
       "\n",
       "    .dataframe tbody tr th {\n",
       "        vertical-align: top;\n",
       "    }\n",
       "\n",
       "    .dataframe thead th {\n",
       "        text-align: right;\n",
       "    }\n",
       "</style>\n",
       "<table border=\"1\" class=\"dataframe\">\n",
       "  <thead>\n",
       "    <tr style=\"text-align: right;\">\n",
       "      <th></th>\n",
       "      <th>State</th>\n",
       "      <th>District</th>\n",
       "      <th>DT_Name</th>\n",
       "      <th>CD Block</th>\n",
       "      <th>Town/Village</th>\n",
       "      <th>Ward</th>\n",
       "      <th>EB</th>\n",
       "      <th>Level</th>\n",
       "      <th>Name</th>\n",
       "      <th>TRU</th>\n",
       "      <th>...</th>\n",
       "      <th>MARG_AL_0_3_F</th>\n",
       "      <th>MARG_HH_0_3_P</th>\n",
       "      <th>MARG_HH_0_3_M</th>\n",
       "      <th>MARG_HH_0_3_F</th>\n",
       "      <th>MARG_OT_0_3_P</th>\n",
       "      <th>MARG_OT_0_3_M</th>\n",
       "      <th>MARG_OT_0_3_F</th>\n",
       "      <th>NON_WORK_P</th>\n",
       "      <th>NON_WORK_M</th>\n",
       "      <th>NON_WORK_F</th>\n",
       "    </tr>\n",
       "  </thead>\n",
       "  <tbody>\n",
       "    <tr>\n",
       "      <th>0</th>\n",
       "      <td>28</td>\n",
       "      <td>532</td>\n",
       "      <td>Adilabad</td>\n",
       "      <td>1</td>\n",
       "      <td>0</td>\n",
       "      <td>0</td>\n",
       "      <td>0</td>\n",
       "      <td>CD BLOCK</td>\n",
       "      <td>Tamsi</td>\n",
       "      <td>Total</td>\n",
       "      <td>...</td>\n",
       "      <td>174</td>\n",
       "      <td>10</td>\n",
       "      <td>6</td>\n",
       "      <td>4</td>\n",
       "      <td>71</td>\n",
       "      <td>38</td>\n",
       "      <td>33</td>\n",
       "      <td>16805</td>\n",
       "      <td>7843</td>\n",
       "      <td>8962</td>\n",
       "    </tr>\n",
       "    <tr>\n",
       "      <th>1</th>\n",
       "      <td>28</td>\n",
       "      <td>532</td>\n",
       "      <td>Adilabad</td>\n",
       "      <td>1</td>\n",
       "      <td>0</td>\n",
       "      <td>0</td>\n",
       "      <td>0</td>\n",
       "      <td>CD BLOCK</td>\n",
       "      <td>Tamsi</td>\n",
       "      <td>Rural</td>\n",
       "      <td>...</td>\n",
       "      <td>174</td>\n",
       "      <td>10</td>\n",
       "      <td>6</td>\n",
       "      <td>4</td>\n",
       "      <td>71</td>\n",
       "      <td>38</td>\n",
       "      <td>33</td>\n",
       "      <td>16805</td>\n",
       "      <td>7843</td>\n",
       "      <td>8962</td>\n",
       "    </tr>\n",
       "    <tr>\n",
       "      <th>2</th>\n",
       "      <td>28</td>\n",
       "      <td>532</td>\n",
       "      <td>Adilabad</td>\n",
       "      <td>1</td>\n",
       "      <td>0</td>\n",
       "      <td>0</td>\n",
       "      <td>0</td>\n",
       "      <td>CD BLOCK</td>\n",
       "      <td>Tamsi</td>\n",
       "      <td>Urban</td>\n",
       "      <td>...</td>\n",
       "      <td>0</td>\n",
       "      <td>0</td>\n",
       "      <td>0</td>\n",
       "      <td>0</td>\n",
       "      <td>0</td>\n",
       "      <td>0</td>\n",
       "      <td>0</td>\n",
       "      <td>0</td>\n",
       "      <td>0</td>\n",
       "      <td>0</td>\n",
       "    </tr>\n",
       "    <tr>\n",
       "      <th>3</th>\n",
       "      <td>28</td>\n",
       "      <td>532</td>\n",
       "      <td>Adilabad</td>\n",
       "      <td>1</td>\n",
       "      <td>568945</td>\n",
       "      <td>0</td>\n",
       "      <td>0</td>\n",
       "      <td>VILLAGE</td>\n",
       "      <td>Karanji (T)</td>\n",
       "      <td>Rural</td>\n",
       "      <td>...</td>\n",
       "      <td>46</td>\n",
       "      <td>1</td>\n",
       "      <td>0</td>\n",
       "      <td>1</td>\n",
       "      <td>0</td>\n",
       "      <td>0</td>\n",
       "      <td>0</td>\n",
       "      <td>853</td>\n",
       "      <td>383</td>\n",
       "      <td>470</td>\n",
       "    </tr>\n",
       "    <tr>\n",
       "      <th>4</th>\n",
       "      <td>28</td>\n",
       "      <td>532</td>\n",
       "      <td>Adilabad</td>\n",
       "      <td>1</td>\n",
       "      <td>568946</td>\n",
       "      <td>0</td>\n",
       "      <td>0</td>\n",
       "      <td>VILLAGE</td>\n",
       "      <td>Guledi</td>\n",
       "      <td>Rural</td>\n",
       "      <td>...</td>\n",
       "      <td>0</td>\n",
       "      <td>0</td>\n",
       "      <td>0</td>\n",
       "      <td>0</td>\n",
       "      <td>0</td>\n",
       "      <td>0</td>\n",
       "      <td>0</td>\n",
       "      <td>134</td>\n",
       "      <td>64</td>\n",
       "      <td>70</td>\n",
       "    </tr>\n",
       "    <tr>\n",
       "      <th>...</th>\n",
       "      <td>...</td>\n",
       "      <td>...</td>\n",
       "      <td>...</td>\n",
       "      <td>...</td>\n",
       "      <td>...</td>\n",
       "      <td>...</td>\n",
       "      <td>...</td>\n",
       "      <td>...</td>\n",
       "      <td>...</td>\n",
       "      <td>...</td>\n",
       "      <td>...</td>\n",
       "      <td>...</td>\n",
       "      <td>...</td>\n",
       "      <td>...</td>\n",
       "      <td>...</td>\n",
       "      <td>...</td>\n",
       "      <td>...</td>\n",
       "      <td>...</td>\n",
       "      <td>...</td>\n",
       "      <td>...</td>\n",
       "      <td>...</td>\n",
       "    </tr>\n",
       "    <tr>\n",
       "      <th>1892</th>\n",
       "      <td>28</td>\n",
       "      <td>532</td>\n",
       "      <td>Adilabad</td>\n",
       "      <td>52</td>\n",
       "      <td>570681</td>\n",
       "      <td>0</td>\n",
       "      <td>0</td>\n",
       "      <td>VILLAGE</td>\n",
       "      <td>Ponnaram</td>\n",
       "      <td>Rural</td>\n",
       "      <td>...</td>\n",
       "      <td>1</td>\n",
       "      <td>0</td>\n",
       "      <td>0</td>\n",
       "      <td>0</td>\n",
       "      <td>0</td>\n",
       "      <td>0</td>\n",
       "      <td>0</td>\n",
       "      <td>272</td>\n",
       "      <td>161</td>\n",
       "      <td>111</td>\n",
       "    </tr>\n",
       "    <tr>\n",
       "      <th>1893</th>\n",
       "      <td>28</td>\n",
       "      <td>532</td>\n",
       "      <td>Adilabad</td>\n",
       "      <td>52</td>\n",
       "      <td>570682</td>\n",
       "      <td>0</td>\n",
       "      <td>0</td>\n",
       "      <td>VILLAGE</td>\n",
       "      <td>Somanpalle</td>\n",
       "      <td>Rural</td>\n",
       "      <td>...</td>\n",
       "      <td>41</td>\n",
       "      <td>0</td>\n",
       "      <td>0</td>\n",
       "      <td>0</td>\n",
       "      <td>21</td>\n",
       "      <td>13</td>\n",
       "      <td>8</td>\n",
       "      <td>684</td>\n",
       "      <td>340</td>\n",
       "      <td>344</td>\n",
       "    </tr>\n",
       "    <tr>\n",
       "      <th>1894</th>\n",
       "      <td>28</td>\n",
       "      <td>532</td>\n",
       "      <td>Adilabad</td>\n",
       "      <td>52</td>\n",
       "      <td>570683</td>\n",
       "      <td>0</td>\n",
       "      <td>0</td>\n",
       "      <td>VILLAGE</td>\n",
       "      <td>Nagapur</td>\n",
       "      <td>Rural</td>\n",
       "      <td>...</td>\n",
       "      <td>8</td>\n",
       "      <td>5</td>\n",
       "      <td>1</td>\n",
       "      <td>4</td>\n",
       "      <td>10</td>\n",
       "      <td>3</td>\n",
       "      <td>7</td>\n",
       "      <td>366</td>\n",
       "      <td>178</td>\n",
       "      <td>188</td>\n",
       "    </tr>\n",
       "    <tr>\n",
       "      <th>1895</th>\n",
       "      <td>28</td>\n",
       "      <td>532</td>\n",
       "      <td>Adilabad</td>\n",
       "      <td>52</td>\n",
       "      <td>570684</td>\n",
       "      <td>0</td>\n",
       "      <td>0</td>\n",
       "      <td>VILLAGE</td>\n",
       "      <td>Beervelli</td>\n",
       "      <td>Rural</td>\n",
       "      <td>...</td>\n",
       "      <td>0</td>\n",
       "      <td>0</td>\n",
       "      <td>0</td>\n",
       "      <td>0</td>\n",
       "      <td>0</td>\n",
       "      <td>0</td>\n",
       "      <td>0</td>\n",
       "      <td>299</td>\n",
       "      <td>85</td>\n",
       "      <td>214</td>\n",
       "    </tr>\n",
       "    <tr>\n",
       "      <th>1896</th>\n",
       "      <td>28</td>\n",
       "      <td>532</td>\n",
       "      <td>Adilabad</td>\n",
       "      <td>52</td>\n",
       "      <td>570685</td>\n",
       "      <td>0</td>\n",
       "      <td>0</td>\n",
       "      <td>TOWN</td>\n",
       "      <td>Chennur (CT)</td>\n",
       "      <td>Urban</td>\n",
       "      <td>...</td>\n",
       "      <td>52</td>\n",
       "      <td>9</td>\n",
       "      <td>3</td>\n",
       "      <td>6</td>\n",
       "      <td>100</td>\n",
       "      <td>63</td>\n",
       "      <td>37</td>\n",
       "      <td>14752</td>\n",
       "      <td>5725</td>\n",
       "      <td>9027</td>\n",
       "    </tr>\n",
       "  </tbody>\n",
       "</table>\n",
       "<p>1897 rows × 95 columns</p>\n",
       "</div>"
      ],
      "text/plain": [
       "      State  District   DT_Name  CD Block  Town/Village  Ward  EB     Level  \\\n",
       "0        28       532  Adilabad         1             0     0   0  CD BLOCK   \n",
       "1        28       532  Adilabad         1             0     0   0  CD BLOCK   \n",
       "2        28       532  Adilabad         1             0     0   0  CD BLOCK   \n",
       "3        28       532  Adilabad         1        568945     0   0   VILLAGE   \n",
       "4        28       532  Adilabad         1        568946     0   0   VILLAGE   \n",
       "...     ...       ...       ...       ...           ...   ...  ..       ...   \n",
       "1892     28       532  Adilabad        52        570681     0   0   VILLAGE   \n",
       "1893     28       532  Adilabad        52        570682     0   0   VILLAGE   \n",
       "1894     28       532  Adilabad        52        570683     0   0   VILLAGE   \n",
       "1895     28       532  Adilabad        52        570684     0   0   VILLAGE   \n",
       "1896     28       532  Adilabad        52        570685     0   0      TOWN   \n",
       "\n",
       "              Name    TRU  ...  MARG_AL_0_3_F  MARG_HH_0_3_P  MARG_HH_0_3_M  \\\n",
       "0            Tamsi  Total  ...            174             10              6   \n",
       "1            Tamsi  Rural  ...            174             10              6   \n",
       "2            Tamsi  Urban  ...              0              0              0   \n",
       "3      Karanji (T)  Rural  ...             46              1              0   \n",
       "4           Guledi  Rural  ...              0              0              0   \n",
       "...            ...    ...  ...            ...            ...            ...   \n",
       "1892      Ponnaram  Rural  ...              1              0              0   \n",
       "1893    Somanpalle  Rural  ...             41              0              0   \n",
       "1894       Nagapur  Rural  ...              8              5              1   \n",
       "1895     Beervelli  Rural  ...              0              0              0   \n",
       "1896  Chennur (CT)  Urban  ...             52              9              3   \n",
       "\n",
       "      MARG_HH_0_3_F  MARG_OT_0_3_P  MARG_OT_0_3_M  MARG_OT_0_3_F  NON_WORK_P  \\\n",
       "0                 4             71             38             33       16805   \n",
       "1                 4             71             38             33       16805   \n",
       "2                 0              0              0              0           0   \n",
       "3                 1              0              0              0         853   \n",
       "4                 0              0              0              0         134   \n",
       "...             ...            ...            ...            ...         ...   \n",
       "1892              0              0              0              0         272   \n",
       "1893              0             21             13              8         684   \n",
       "1894              4             10              3              7         366   \n",
       "1895              0              0              0              0         299   \n",
       "1896              6            100             63             37       14752   \n",
       "\n",
       "      NON_WORK_M  NON_WORK_F  \n",
       "0           7843        8962  \n",
       "1           7843        8962  \n",
       "2              0           0  \n",
       "3            383         470  \n",
       "4             64          70  \n",
       "...          ...         ...  \n",
       "1892         161         111  \n",
       "1893         340         344  \n",
       "1894         178         188  \n",
       "1895          85         214  \n",
       "1896        5725        9027  \n",
       "\n",
       "[1897 rows x 95 columns]"
      ]
     },
     "execution_count": 1,
     "metadata": {},
     "output_type": "execute_result"
    }
   ],
   "source": [
    "import pandas as pd\n",
    "import matplotlib.pyplot as plt\n",
    "import seaborn as sb\n",
    "df=pd.read_csv(\"28_Adilabad census.csv\")\n",
    "df"
   ]
  },
  {
   "cell_type": "code",
   "execution_count": 3,
   "id": "8f6cc2cb",
   "metadata": {
    "pycharm": {
     "name": "#%%\n"
    }
   },
   "outputs": [
    {
     "name": "stdout",
     "output_type": "stream",
     "text": [
      "<class 'pandas.core.frame.DataFrame'>\n",
      "RangeIndex: 1897 entries, 0 to 1896\n",
      "Data columns (total 95 columns):\n",
      " #   Column          Non-Null Count  Dtype \n",
      "---  ------          --------------  ----- \n",
      " 0   State           1897 non-null   int64 \n",
      " 1   District        1897 non-null   int64 \n",
      " 2   DT_Name         1897 non-null   object\n",
      " 3   CD Block        1897 non-null   int64 \n",
      " 4   Town/Village    1897 non-null   int64 \n",
      " 5   Ward            1897 non-null   int64 \n",
      " 6   EB              1897 non-null   int64 \n",
      " 7   Level           1897 non-null   object\n",
      " 8   Name            1897 non-null   object\n",
      " 9   TRU             1897 non-null   object\n",
      " 10  No_HH           1897 non-null   int64 \n",
      " 11  TOT_P           1897 non-null   int64 \n",
      " 12  TOT_M           1897 non-null   int64 \n",
      " 13  TOT_F           1897 non-null   int64 \n",
      " 14  P_06            1897 non-null   int64 \n",
      " 15  M_06            1897 non-null   int64 \n",
      " 16  F_06            1897 non-null   int64 \n",
      " 17  P_SC            1897 non-null   int64 \n",
      " 18  M_SC            1897 non-null   int64 \n",
      " 19  F_SC            1897 non-null   int64 \n",
      " 20  P_ST            1897 non-null   int64 \n",
      " 21  M_ST            1897 non-null   int64 \n",
      " 22  F_ST            1897 non-null   int64 \n",
      " 23  P_LIT           1897 non-null   int64 \n",
      " 24  M_LIT           1897 non-null   int64 \n",
      " 25  F_LIT           1897 non-null   int64 \n",
      " 26  P_ILL           1897 non-null   int64 \n",
      " 27  M_ILL           1897 non-null   int64 \n",
      " 28  F_ILL           1897 non-null   int64 \n",
      " 29  TOT_WORK_P      1897 non-null   int64 \n",
      " 30  TOT_WORK_M      1897 non-null   int64 \n",
      " 31  TOT_WORK_F      1897 non-null   int64 \n",
      " 32  MAINWORK_P      1897 non-null   int64 \n",
      " 33  MAINWORK_M      1897 non-null   int64 \n",
      " 34  MAINWORK_F      1897 non-null   int64 \n",
      " 35  MAIN_CL_P       1897 non-null   int64 \n",
      " 36  MAIN_CL_M       1897 non-null   int64 \n",
      " 37  MAIN_CL_F       1897 non-null   int64 \n",
      " 38  MAIN_AL_P       1897 non-null   int64 \n",
      " 39  MAIN_AL_M       1897 non-null   int64 \n",
      " 40  MAIN_AL_F       1897 non-null   int64 \n",
      " 41  MAIN_HH_P       1897 non-null   int64 \n",
      " 42  MAIN_HH_M       1897 non-null   int64 \n",
      " 43  MAIN_HH_F       1897 non-null   int64 \n",
      " 44  MAIN_OT_P       1897 non-null   int64 \n",
      " 45  MAIN_OT_M       1897 non-null   int64 \n",
      " 46  MAIN_OT_F       1897 non-null   int64 \n",
      " 47  MARGWORK_P      1897 non-null   int64 \n",
      " 48  MARGWORK_M      1897 non-null   int64 \n",
      " 49  MARGWORK_F      1897 non-null   int64 \n",
      " 50  MARG_CL_P       1897 non-null   int64 \n",
      " 51  MARG_CL_M       1897 non-null   int64 \n",
      " 52  MARG_CL_F       1897 non-null   int64 \n",
      " 53  MARG_AL_P       1897 non-null   int64 \n",
      " 54  MARG_AL_M       1897 non-null   int64 \n",
      " 55  MARG_AL_F       1897 non-null   int64 \n",
      " 56  MARG_HH_P       1897 non-null   int64 \n",
      " 57  MARG_HH_M       1897 non-null   int64 \n",
      " 58  MARG_HH_F       1897 non-null   int64 \n",
      " 59  MARG_OT_P       1897 non-null   int64 \n",
      " 60  MARG_OT_M       1897 non-null   int64 \n",
      " 61  MARG_OT_F       1897 non-null   int64 \n",
      " 62  MARGWORK_3_6_P  1897 non-null   int64 \n",
      " 63  MARGWORK_3_6_M  1897 non-null   int64 \n",
      " 64  MARGWORK_3_6_F  1897 non-null   int64 \n",
      " 65  MARG_CL_3_6_P   1897 non-null   int64 \n",
      " 66  MARG_CL_3_6_M   1897 non-null   int64 \n",
      " 67  MARG_CL_3_6_F   1897 non-null   int64 \n",
      " 68  MARG_AL_3_6_P   1897 non-null   int64 \n",
      " 69  MARG_AL_3_6_M   1897 non-null   int64 \n",
      " 70  MARG_AL_3_6_F   1897 non-null   int64 \n",
      " 71  MARG_HH_3_6_P   1897 non-null   int64 \n",
      " 72  MARG_HH_3_6_M   1897 non-null   int64 \n",
      " 73  MARG_HH_3_6_F   1897 non-null   int64 \n",
      " 74  MARG_OT_3_6_P   1897 non-null   int64 \n",
      " 75  MARG_OT_3_6_M   1897 non-null   int64 \n",
      " 76  MARG_OT_3_6_F   1897 non-null   int64 \n",
      " 77  MARGWORK_0_3_P  1897 non-null   int64 \n",
      " 78  MARGWORK_0_3_M  1897 non-null   int64 \n",
      " 79  MARGWORK_0_3_F  1897 non-null   int64 \n",
      " 80  MARG_CL_0_3_P   1897 non-null   int64 \n",
      " 81  MARG_CL_0_3_M   1897 non-null   int64 \n",
      " 82  MARG_CL_0_3_F   1897 non-null   int64 \n",
      " 83  MARG_AL_0_3_P   1897 non-null   int64 \n",
      " 84  MARG_AL_0_3_M   1897 non-null   int64 \n",
      " 85  MARG_AL_0_3_F   1897 non-null   int64 \n",
      " 86  MARG_HH_0_3_P   1897 non-null   int64 \n",
      " 87  MARG_HH_0_3_M   1897 non-null   int64 \n",
      " 88  MARG_HH_0_3_F   1897 non-null   int64 \n",
      " 89  MARG_OT_0_3_P   1897 non-null   int64 \n",
      " 90  MARG_OT_0_3_M   1897 non-null   int64 \n",
      " 91  MARG_OT_0_3_F   1897 non-null   int64 \n",
      " 92  NON_WORK_P      1897 non-null   int64 \n",
      " 93  NON_WORK_M      1897 non-null   int64 \n",
      " 94  NON_WORK_F      1897 non-null   int64 \n",
      "dtypes: int64(91), object(4)\n",
      "memory usage: 1.4+ MB\n"
     ]
    }
   ],
   "source": [
    "df.info()"
   ]
  },
  {
   "cell_type": "code",
   "execution_count": 7,
   "id": "de6ea3c5",
   "metadata": {
    "pycharm": {
     "name": "#%%\n"
    }
   },
   "outputs": [
    {
     "data": {
      "text/plain": [
       "(1897, 95)"
      ]
     },
     "execution_count": 7,
     "metadata": {},
     "output_type": "execute_result"
    }
   ],
   "source": [
    "df.shape"
   ]
  },
  {
   "cell_type": "code",
   "execution_count": 32,
   "id": "688566ca",
   "metadata": {
    "pycharm": {
     "name": "#%%\n"
    }
   },
   "outputs": [
    {
     "data": {
      "text/plain": [
       "[20016,\n",
       " 20016,\n",
       " 0,\n",
       " 1128,\n",
       " 255,\n",
       " 551,\n",
       " 430,\n",
       " 1405,\n",
       " 602,\n",
       " 524,\n",
       " 190,\n",
       " 244,\n",
       " 402,\n",
       " 144,\n",
       " 468,\n",
       " 926,\n",
       " 199,\n",
       " 867,\n",
       " 641,\n",
       " 735]"
      ]
     },
     "execution_count": 32,
     "metadata": {},
     "output_type": "execute_result"
    }
   ],
   "source": [
    "total_fm = list(df.iloc[0:20]['TOT_F'])\n",
    "total_fm"
   ]
  },
  {
   "cell_type": "code",
   "execution_count": 33,
   "id": "c7015f22",
   "metadata": {
    "pycharm": {
     "name": "#%%\n"
    }
   },
   "outputs": [
    {
     "data": {
      "text/plain": [
       "['Tamsi',\n",
       " 'Tamsi',\n",
       " 'Tamsi',\n",
       " 'Karanji (T)',\n",
       " 'Guledi',\n",
       " 'Gomutri',\n",
       " 'Antargaon',\n",
       " 'Arli (T)',\n",
       " 'Wadoor',\n",
       " 'Dhanora',\n",
       " 'Kamathwada',\n",
       " 'Gona',\n",
       " 'Gunjala',\n",
       " 'Gollaghat',\n",
       " 'Tamsi (K)',\n",
       " 'Nipani',\n",
       " 'Dabbakuchi',\n",
       " 'Bheempoor',\n",
       " 'Belsari Rampur',\n",
       " 'Anderband']"
      ]
     },
     "execution_count": 33,
     "metadata": {},
     "output_type": "execute_result"
    }
   ],
   "source": [
    "name=list(df.iloc[0:20]['Name'])\n",
    "name"
   ]
  },
  {
   "cell_type": "code",
   "execution_count": 7,
   "id": "68368ef3",
   "metadata": {
    "pycharm": {
     "name": "#%%\n"
    }
   },
   "outputs": [
    {
     "data": {
      "image/png": "[encoded data removed]",
      "text/plain": [
       "<Figure size 1800x1800 with 1 Axes>"
      ]
     },
     "metadata": {
      "needs_background": "light"
     },
     "output_type": "display_data"
    }
   ],
   "source": [
    "total_fm = list(df.iloc[0:20]['TOT_F'])\n",
    "name=list(df.iloc[0:20]['Name'])\n",
    "plt.rcParams['figure.figsize'] = [25,25]\n",
    "plt.plot(name,total_fm)\n",
    "plt.title('Line plot for female polpulation distribution in top 20 blocks/villages in Adilabad.')\n",
    "plt.ylabel('toatal number of females')\n",
    "plt.xlabel('names of villages/blocks')\n",
    "plt.show()"
   ]
  },
  {
   "cell_type": "code",
   "execution_count": 50,
   "id": "96c2d1fe",
   "metadata": {
    "pycharm": {
     "name": "#%%\n"
    }
   },
   "outputs": [],
   "source": [
    "df=pd.read_csv(\"28_Adilabad census.csv\")"
   ]
  },
  {
   "cell_type": "code",
   "execution_count": 52,
   "id": "c12d0408",
   "metadata": {
    "pycharm": {
     "name": "#%%\n"
    }
   },
   "outputs": [
    {
     "data": {
      "image/png": "[encoded data removed]",
      "text/plain": [
       "<Figure size 720x504 with 1 Axes>"
      ]
     },
     "metadata": {},
     "output_type": "display_data"
    }
   ],
   "source": [
    "plt.rcParams['figure.figsize'] = [10,7]\n",
    "non_working_man = df['NON_WORK_M'].sum()*100/df['NON_WORK_P'].sum()\n",
    "non_working_woman = df['NON_WORK_F'].sum()*100/df['NON_WORK_P'].sum()\n",
    "\n",
    "lst = [non_working_man , non_working_woman]\n",
    "gender = ['Male' , 'Female']\n",
    "exp= [0.1, 0]\n",
    "\n",
    "plt.pie(lst ,labels = gender ,explode = exp, shadow = True , radius = 1, autopct = \"%1.2f%%\")\n",
    "plt.title(\"Non Working population\" , color = \"black\")\n",
    "plt.show()"
   ]
  },
  {
   "cell_type": "code",
   "execution_count": 10,
   "id": "83fd2110",
   "metadata": {
    "pycharm": {
     "name": "#%%\n"
    }
   },
   "outputs": [
    {
     "data": {
      "image/png": "[encoded data removed]",
      "text/plain": [
       "<Figure size 1800x1800 with 1 Axes>"
      ]
     },
     "metadata": {
      "needs_background": "light"
     },
     "output_type": "display_data"
    }
   ],
   "source": [
    "import pandas as pd\n",
    "import matplotlib.pyplot as plt\n",
    "import seaborn as sb\n",
    "df=pd.read_csv(\"28_Adilabad census.csv\")\n",
    "total_m = list(df.iloc[0:20]['TOT_M'])\n",
    "name=list(df.iloc[0:20]['Name'])\n",
    "plt.rcParams['figure.figsize'] = [25,25]\n",
    "plt.scatter(name,total_m, color='darkblue')\n",
    "plt.title('Scatter plot for total male population distribution in tp 20 villagaes/blocks in Adilabad.')\n",
    "plt.xlabel('top 20 villages/blocks')\n",
    "plt.ylabel('total number of males')\n",
    "plt.show()"
   ]
  },
  {
   "cell_type": "code",
   "execution_count": null,
   "id": "30fdb41f",
   "metadata": {
    "pycharm": {
     "name": "#%%\n"
    }
   },
   "outputs": [],
   "source": []
  }
 ],
 "metadata": {
  "kernelspec": {
   "display_name": "Python 3 (ipykernel)",
   "language": "python",
   "name": "python3"
  },
  "language_info": {
   "codemirror_mode": {
    "name": "ipython",
    "version": 3
   },
   "file_extension": ".py",
   "mimetype": "text/x-python",
   "name": "python",
   "nbconvert_exporter": "python",
   "pygments_lexer": "ipython3",
   "version": "3.9.7"
  }
 },
 "nbformat": 4,
 "nbformat_minor": 5
}